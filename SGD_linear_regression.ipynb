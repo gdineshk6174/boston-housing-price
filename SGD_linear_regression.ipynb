{
  "nbformat": 4,
  "nbformat_minor": 0,
  "metadata": {
    "colab": {
      "name": "SGD linear regression ",
      "version": "0.3.2",
      "provenance": []
    },
    "kernelspec": {
      "name": "python3",
      "display_name": "Python 3"
    }
  },
  "cells": [
    {
      "metadata": {
        "id": "k2R_Uusc533Y",
        "colab_type": "code",
        "colab": {}
      },
      "cell_type": "code",
      "source": [
        "from sklearn.datasets import load_boston\n",
        "boston = load_boston()\n"
      ],
      "execution_count": 0,
      "outputs": []
    },
    {
      "metadata": {
        "id": "SEyslD12S7qd",
        "colab_type": "code",
        "outputId": "cad938b7-00d2-4dc1-c838-62eee9ef7be7",
        "colab": {
          "base_uri": "https://localhost:8080/",
          "height": 34
        }
      },
      "cell_type": "code",
      "source": [
        "print(boston.data.shape)"
      ],
      "execution_count": 2,
      "outputs": [
        {
          "output_type": "stream",
          "text": [
            "(506, 13)\n"
          ],
          "name": "stdout"
        }
      ]
    },
    {
      "metadata": {
        "id": "Jo8NP9mXS7zA",
        "colab_type": "code",
        "outputId": "9ddc2832-6d0b-4f8b-c201-c31217abc12d",
        "colab": {
          "base_uri": "https://localhost:8080/",
          "height": 51
        }
      },
      "cell_type": "code",
      "source": [
        "print(boston.feature_names)"
      ],
      "execution_count": 3,
      "outputs": [
        {
          "output_type": "stream",
          "text": [
            "['CRIM' 'ZN' 'INDUS' 'CHAS' 'NOX' 'RM' 'AGE' 'DIS' 'RAD' 'TAX' 'PTRATIO'\n",
            " 'B' 'LSTAT']\n"
          ],
          "name": "stdout"
        }
      ]
    },
    {
      "metadata": {
        "id": "SJga1bCvS767",
        "colab_type": "code",
        "outputId": "80d21d98-9d0a-4691-aebb-b25ef6a44d8f",
        "colab": {
          "base_uri": "https://localhost:8080/",
          "height": 904
        }
      },
      "cell_type": "code",
      "source": [
        "print(boston.DESCR)"
      ],
      "execution_count": 4,
      "outputs": [
        {
          "output_type": "stream",
          "text": [
            ".. _boston_dataset:\n",
            "\n",
            "Boston house prices dataset\n",
            "---------------------------\n",
            "\n",
            "**Data Set Characteristics:**  \n",
            "\n",
            "    :Number of Instances: 506 \n",
            "\n",
            "    :Number of Attributes: 13 numeric/categorical predictive. Median Value (attribute 14) is usually the target.\n",
            "\n",
            "    :Attribute Information (in order):\n",
            "        - CRIM     per capita crime rate by town\n",
            "        - ZN       proportion of residential land zoned for lots over 25,000 sq.ft.\n",
            "        - INDUS    proportion of non-retail business acres per town\n",
            "        - CHAS     Charles River dummy variable (= 1 if tract bounds river; 0 otherwise)\n",
            "        - NOX      nitric oxides concentration (parts per 10 million)\n",
            "        - RM       average number of rooms per dwelling\n",
            "        - AGE      proportion of owner-occupied units built prior to 1940\n",
            "        - DIS      weighted distances to five Boston employment centres\n",
            "        - RAD      index of accessibility to radial highways\n",
            "        - TAX      full-value property-tax rate per $10,000\n",
            "        - PTRATIO  pupil-teacher ratio by town\n",
            "        - B        1000(Bk - 0.63)^2 where Bk is the proportion of blacks by town\n",
            "        - LSTAT    % lower status of the population\n",
            "        - MEDV     Median value of owner-occupied homes in $1000's\n",
            "\n",
            "    :Missing Attribute Values: None\n",
            "\n",
            "    :Creator: Harrison, D. and Rubinfeld, D.L.\n",
            "\n",
            "This is a copy of UCI ML housing dataset.\n",
            "https://archive.ics.uci.edu/ml/machine-learning-databases/housing/\n",
            "\n",
            "\n",
            "This dataset was taken from the StatLib library which is maintained at Carnegie Mellon University.\n",
            "\n",
            "The Boston house-price data of Harrison, D. and Rubinfeld, D.L. 'Hedonic\n",
            "prices and the demand for clean air', J. Environ. Economics & Management,\n",
            "vol.5, 81-102, 1978.   Used in Belsley, Kuh & Welsch, 'Regression diagnostics\n",
            "...', Wiley, 1980.   N.B. Various transformations are used in the table on\n",
            "pages 244-261 of the latter.\n",
            "\n",
            "The Boston house-price data has been used in many machine learning papers that address regression\n",
            "problems.   \n",
            "     \n",
            ".. topic:: References\n",
            "\n",
            "   - Belsley, Kuh & Welsch, 'Regression diagnostics: Identifying Influential Data and Sources of Collinearity', Wiley, 1980. 244-261.\n",
            "   - Quinlan,R. (1993). Combining Instance-Based and Model-Based Learning. In Proceedings on the Tenth International Conference of Machine Learning, 236-243, University of Massachusetts, Amherst. Morgan Kaufmann.\n",
            "\n"
          ],
          "name": "stdout"
        }
      ]
    },
    {
      "metadata": {
        "id": "N3iFHGxzSmaC",
        "colab_type": "code",
        "outputId": "43d073f1-16b4-4b35-effe-40a29f14b017",
        "colab": {
          "base_uri": "https://localhost:8080/",
          "height": 170
        }
      },
      "cell_type": "code",
      "source": [
        "# converting boston data into dataframe\n",
        "import pandas as pd\n",
        "bos = pd.DataFrame(boston.data)\n",
        "print (bos.head(3))"
      ],
      "execution_count": 5,
      "outputs": [
        {
          "output_type": "stream",
          "text": [
            "        0     1     2    3      4      5     6       7    8      9     10  \\\n",
            "0  0.00632  18.0  2.31  0.0  0.538  6.575  65.2  4.0900  1.0  296.0  15.3   \n",
            "1  0.02731   0.0  7.07  0.0  0.469  6.421  78.9  4.9671  2.0  242.0  17.8   \n",
            "2  0.02729   0.0  7.07  0.0  0.469  7.185  61.1  4.9671  2.0  242.0  17.8   \n",
            "\n",
            "       11    12  \n",
            "0  396.90  4.98  \n",
            "1  396.90  9.14  \n",
            "2  392.83  4.03  \n"
          ],
          "name": "stdout"
        }
      ]
    },
    {
      "metadata": {
        "id": "gRRjtOh-TQQz",
        "colab_type": "code",
        "colab": {}
      },
      "cell_type": "code",
      "source": [
        "bos['PRICE'] = boston.target\n"
      ],
      "execution_count": 0,
      "outputs": []
    },
    {
      "metadata": {
        "id": "THci_84ETxZF",
        "colab_type": "code",
        "outputId": "a47338d7-9121-40c3-e904-f5c33fca45dc",
        "colab": {
          "base_uri": "https://localhost:8080/",
          "height": 142
        }
      },
      "cell_type": "code",
      "source": [
        "bos.head(3)"
      ],
      "execution_count": 7,
      "outputs": [
        {
          "output_type": "execute_result",
          "data": {
            "text/html": [
              "<div>\n",
              "<style scoped>\n",
              "    .dataframe tbody tr th:only-of-type {\n",
              "        vertical-align: middle;\n",
              "    }\n",
              "\n",
              "    .dataframe tbody tr th {\n",
              "        vertical-align: top;\n",
              "    }\n",
              "\n",
              "    .dataframe thead th {\n",
              "        text-align: right;\n",
              "    }\n",
              "</style>\n",
              "<table border=\"1\" class=\"dataframe\">\n",
              "  <thead>\n",
              "    <tr style=\"text-align: right;\">\n",
              "      <th></th>\n",
              "      <th>0</th>\n",
              "      <th>1</th>\n",
              "      <th>2</th>\n",
              "      <th>3</th>\n",
              "      <th>4</th>\n",
              "      <th>5</th>\n",
              "      <th>6</th>\n",
              "      <th>7</th>\n",
              "      <th>8</th>\n",
              "      <th>9</th>\n",
              "      <th>10</th>\n",
              "      <th>11</th>\n",
              "      <th>12</th>\n",
              "      <th>PRICE</th>\n",
              "    </tr>\n",
              "  </thead>\n",
              "  <tbody>\n",
              "    <tr>\n",
              "      <th>0</th>\n",
              "      <td>0.00632</td>\n",
              "      <td>18.0</td>\n",
              "      <td>2.31</td>\n",
              "      <td>0.0</td>\n",
              "      <td>0.538</td>\n",
              "      <td>6.575</td>\n",
              "      <td>65.2</td>\n",
              "      <td>4.0900</td>\n",
              "      <td>1.0</td>\n",
              "      <td>296.0</td>\n",
              "      <td>15.3</td>\n",
              "      <td>396.90</td>\n",
              "      <td>4.98</td>\n",
              "      <td>24.0</td>\n",
              "    </tr>\n",
              "    <tr>\n",
              "      <th>1</th>\n",
              "      <td>0.02731</td>\n",
              "      <td>0.0</td>\n",
              "      <td>7.07</td>\n",
              "      <td>0.0</td>\n",
              "      <td>0.469</td>\n",
              "      <td>6.421</td>\n",
              "      <td>78.9</td>\n",
              "      <td>4.9671</td>\n",
              "      <td>2.0</td>\n",
              "      <td>242.0</td>\n",
              "      <td>17.8</td>\n",
              "      <td>396.90</td>\n",
              "      <td>9.14</td>\n",
              "      <td>21.6</td>\n",
              "    </tr>\n",
              "    <tr>\n",
              "      <th>2</th>\n",
              "      <td>0.02729</td>\n",
              "      <td>0.0</td>\n",
              "      <td>7.07</td>\n",
              "      <td>0.0</td>\n",
              "      <td>0.469</td>\n",
              "      <td>7.185</td>\n",
              "      <td>61.1</td>\n",
              "      <td>4.9671</td>\n",
              "      <td>2.0</td>\n",
              "      <td>242.0</td>\n",
              "      <td>17.8</td>\n",
              "      <td>392.83</td>\n",
              "      <td>4.03</td>\n",
              "      <td>34.7</td>\n",
              "    </tr>\n",
              "  </tbody>\n",
              "</table>\n",
              "</div>"
            ],
            "text/plain": [
              "         0     1     2    3      4      5     6       7    8      9    10  \\\n",
              "0  0.00632  18.0  2.31  0.0  0.538  6.575  65.2  4.0900  1.0  296.0  15.3   \n",
              "1  0.02731   0.0  7.07  0.0  0.469  6.421  78.9  4.9671  2.0  242.0  17.8   \n",
              "2  0.02729   0.0  7.07  0.0  0.469  7.185  61.1  4.9671  2.0  242.0  17.8   \n",
              "\n",
              "       11    12  PRICE  \n",
              "0  396.90  4.98   24.0  \n",
              "1  396.90  9.14   21.6  \n",
              "2  392.83  4.03   34.7  "
            ]
          },
          "metadata": {
            "tags": []
          },
          "execution_count": 7
        }
      ]
    },
    {
      "metadata": {
        "id": "o7fotoxmgYNx",
        "colab_type": "code",
        "outputId": "ac0797c6-6b73-49b2-b4db-b144ceb2756d",
        "colab": {
          "base_uri": "https://localhost:8080/",
          "height": 142
        }
      },
      "cell_type": "code",
      "source": [
        "from sklearn.preprocessing import StandardScaler\n",
        "\n",
        "scaler = StandardScaler()\n",
        "\n",
        "bos_scaled = scaler.fit_transform(bos)\n",
        "bos = pd.DataFrame(bos_scaled)\n",
        "bos.head(3)"
      ],
      "execution_count": 8,
      "outputs": [
        {
          "output_type": "execute_result",
          "data": {
            "text/html": [
              "<div>\n",
              "<style scoped>\n",
              "    .dataframe tbody tr th:only-of-type {\n",
              "        vertical-align: middle;\n",
              "    }\n",
              "\n",
              "    .dataframe tbody tr th {\n",
              "        vertical-align: top;\n",
              "    }\n",
              "\n",
              "    .dataframe thead th {\n",
              "        text-align: right;\n",
              "    }\n",
              "</style>\n",
              "<table border=\"1\" class=\"dataframe\">\n",
              "  <thead>\n",
              "    <tr style=\"text-align: right;\">\n",
              "      <th></th>\n",
              "      <th>0</th>\n",
              "      <th>1</th>\n",
              "      <th>2</th>\n",
              "      <th>3</th>\n",
              "      <th>4</th>\n",
              "      <th>5</th>\n",
              "      <th>6</th>\n",
              "      <th>7</th>\n",
              "      <th>8</th>\n",
              "      <th>9</th>\n",
              "      <th>10</th>\n",
              "      <th>11</th>\n",
              "      <th>12</th>\n",
              "      <th>13</th>\n",
              "    </tr>\n",
              "  </thead>\n",
              "  <tbody>\n",
              "    <tr>\n",
              "      <th>0</th>\n",
              "      <td>-0.419782</td>\n",
              "      <td>0.284830</td>\n",
              "      <td>-1.287909</td>\n",
              "      <td>-0.272599</td>\n",
              "      <td>-0.144217</td>\n",
              "      <td>0.413672</td>\n",
              "      <td>-0.120013</td>\n",
              "      <td>0.140214</td>\n",
              "      <td>-0.982843</td>\n",
              "      <td>-0.666608</td>\n",
              "      <td>-1.459000</td>\n",
              "      <td>0.441052</td>\n",
              "      <td>-1.075562</td>\n",
              "      <td>0.159686</td>\n",
              "    </tr>\n",
              "    <tr>\n",
              "      <th>1</th>\n",
              "      <td>-0.417339</td>\n",
              "      <td>-0.487722</td>\n",
              "      <td>-0.593381</td>\n",
              "      <td>-0.272599</td>\n",
              "      <td>-0.740262</td>\n",
              "      <td>0.194274</td>\n",
              "      <td>0.367166</td>\n",
              "      <td>0.557160</td>\n",
              "      <td>-0.867883</td>\n",
              "      <td>-0.987329</td>\n",
              "      <td>-0.303094</td>\n",
              "      <td>0.441052</td>\n",
              "      <td>-0.492439</td>\n",
              "      <td>-0.101524</td>\n",
              "    </tr>\n",
              "    <tr>\n",
              "      <th>2</th>\n",
              "      <td>-0.417342</td>\n",
              "      <td>-0.487722</td>\n",
              "      <td>-0.593381</td>\n",
              "      <td>-0.272599</td>\n",
              "      <td>-0.740262</td>\n",
              "      <td>1.282714</td>\n",
              "      <td>-0.265812</td>\n",
              "      <td>0.557160</td>\n",
              "      <td>-0.867883</td>\n",
              "      <td>-0.987329</td>\n",
              "      <td>-0.303094</td>\n",
              "      <td>0.396427</td>\n",
              "      <td>-1.208727</td>\n",
              "      <td>1.324247</td>\n",
              "    </tr>\n",
              "  </tbody>\n",
              "</table>\n",
              "</div>"
            ],
            "text/plain": [
              "         0         1         2         3         4         5         6   \\\n",
              "0 -0.419782  0.284830 -1.287909 -0.272599 -0.144217  0.413672 -0.120013   \n",
              "1 -0.417339 -0.487722 -0.593381 -0.272599 -0.740262  0.194274  0.367166   \n",
              "2 -0.417342 -0.487722 -0.593381 -0.272599 -0.740262  1.282714 -0.265812   \n",
              "\n",
              "         7         8         9         10        11        12        13  \n",
              "0  0.140214 -0.982843 -0.666608 -1.459000  0.441052 -1.075562  0.159686  \n",
              "1  0.557160 -0.867883 -0.987329 -0.303094  0.441052 -0.492439 -0.101524  \n",
              "2  0.557160 -0.867883 -0.987329 -0.303094  0.396427 -1.208727  1.324247  "
            ]
          },
          "metadata": {
            "tags": []
          },
          "execution_count": 8
        }
      ]
    },
    {
      "metadata": {
        "id": "c3cylOpjYVgJ",
        "colab_type": "code",
        "outputId": "8ed829c8-57f0-4c0b-b3a6-869910e7f3e9",
        "colab": {
          "base_uri": "https://localhost:8080/",
          "height": 170
        }
      },
      "cell_type": "code",
      "source": [
        "X = bos.drop([13], axis = 1)\n",
        "print (X.head(3))\n"
      ],
      "execution_count": 9,
      "outputs": [
        {
          "output_type": "stream",
          "text": [
            "         0         1         2         3         4         5         6   \\\n",
            "0 -0.419782  0.284830 -1.287909 -0.272599 -0.144217  0.413672 -0.120013   \n",
            "1 -0.417339 -0.487722 -0.593381 -0.272599 -0.740262  0.194274  0.367166   \n",
            "2 -0.417342 -0.487722 -0.593381 -0.272599 -0.740262  1.282714 -0.265812   \n",
            "\n",
            "         7         8         9         10        11        12  \n",
            "0  0.140214 -0.982843 -0.666608 -1.459000  0.441052 -1.075562  \n",
            "1  0.557160 -0.867883 -0.987329 -0.303094  0.441052 -0.492439  \n",
            "2  0.557160 -0.867883 -0.987329 -0.303094  0.396427 -1.208727  \n"
          ],
          "name": "stdout"
        }
      ]
    },
    {
      "metadata": {
        "id": "Y3xS8rGCjSci",
        "colab_type": "code",
        "outputId": "8124bd53-1a7a-46e3-9b1d-c3fe5defe0b6",
        "colab": {
          "base_uri": "https://localhost:8080/",
          "height": 85
        }
      },
      "cell_type": "code",
      "source": [
        "Y = bos[13]\n",
        "Y.head(3)"
      ],
      "execution_count": 10,
      "outputs": [
        {
          "output_type": "execute_result",
          "data": {
            "text/plain": [
              "0    0.159686\n",
              "1   -0.101524\n",
              "2    1.324247\n",
              "Name: 13, dtype: float64"
            ]
          },
          "metadata": {
            "tags": []
          },
          "execution_count": 10
        }
      ]
    },
    {
      "metadata": {
        "id": "QnQo9qK_m7ur",
        "colab_type": "code",
        "colab": {}
      },
      "cell_type": "code",
      "source": [
        "import pandas as pd\n",
        "from sklearn import linear_model\n",
        "from sklearn.metrics import mean_squared_error\n",
        "from math import sqrt"
      ],
      "execution_count": 0,
      "outputs": []
    },
    {
      "metadata": {
        "id": "bhFPsVG5nFKP",
        "colab_type": "code",
        "colab": {}
      },
      "cell_type": "code",
      "source": [
        "model = linear_model.SGDRegressor(learning_rate = 'constant', alpha = 0, eta0 = 0.001, shuffle=True, max_iter = 50, verbose = 1) "
      ],
      "execution_count": 0,
      "outputs": []
    },
    {
      "metadata": {
        "id": "LdVe5oKVnNMj",
        "colab_type": "code",
        "outputId": "be25844a-b74c-48ac-e2df-b79fdca50f97",
        "colab": {
          "base_uri": "https://localhost:8080/",
          "height": 2621
        }
      },
      "cell_type": "code",
      "source": [
        "model.fit(X,Y)\n",
        "y_predicted = model.predict(X)"
      ],
      "execution_count": 13,
      "outputs": [
        {
          "output_type": "stream",
          "text": [
            "-- Epoch 1\n",
            "Norm: 0.34, NNZs: 13, Bias: 0.000531, T: 506, Avg. loss: 0.277972\n",
            "Total training time: 0.00 seconds.\n",
            "-- Epoch 2\n",
            "Norm: 0.44, NNZs: 13, Bias: 0.002238, T: 1012, Avg. loss: 0.176794\n",
            "Total training time: 0.00 seconds.\n",
            "-- Epoch 3\n",
            "Norm: 0.52, NNZs: 13, Bias: 0.003426, T: 1518, Avg. loss: 0.154074\n",
            "Total training time: 0.00 seconds.\n",
            "-- Epoch 4\n",
            "Norm: 0.55, NNZs: 13, Bias: 0.002243, T: 2024, Avg. loss: 0.146195\n",
            "Total training time: 0.00 seconds.\n",
            "-- Epoch 5\n",
            "Norm: 0.58, NNZs: 13, Bias: 0.003068, T: 2530, Avg. loss: 0.142654\n",
            "Total training time: 0.00 seconds.\n",
            "-- Epoch 6\n",
            "Norm: 0.61, NNZs: 13, Bias: 0.003943, T: 3036, Avg. loss: 0.140479\n",
            "Total training time: 0.00 seconds.\n",
            "-- Epoch 7\n",
            "Norm: 0.62, NNZs: 13, Bias: 0.002309, T: 3542, Avg. loss: 0.139205\n",
            "Total training time: 0.01 seconds.\n",
            "-- Epoch 8\n",
            "Norm: 0.62, NNZs: 13, Bias: 0.001720, T: 4048, Avg. loss: 0.138117\n",
            "Total training time: 0.01 seconds.\n",
            "-- Epoch 9\n",
            "Norm: 0.64, NNZs: 13, Bias: 0.000092, T: 4554, Avg. loss: 0.137145\n",
            "Total training time: 0.01 seconds.\n",
            "-- Epoch 10\n",
            "Norm: 0.64, NNZs: 13, Bias: -0.000861, T: 5060, Avg. loss: 0.136799\n",
            "Total training time: 0.01 seconds.\n",
            "-- Epoch 11\n",
            "Norm: 0.65, NNZs: 13, Bias: -0.000552, T: 5566, Avg. loss: 0.136322\n",
            "Total training time: 0.01 seconds.\n",
            "-- Epoch 12\n",
            "Norm: 0.66, NNZs: 13, Bias: -0.001584, T: 6072, Avg. loss: 0.135493\n",
            "Total training time: 0.01 seconds.\n",
            "-- Epoch 13\n",
            "Norm: 0.66, NNZs: 13, Bias: -0.000732, T: 6578, Avg. loss: 0.135491\n",
            "Total training time: 0.01 seconds.\n",
            "-- Epoch 14\n",
            "Norm: 0.67, NNZs: 13, Bias: 0.001015, T: 7084, Avg. loss: 0.135077\n",
            "Total training time: 0.01 seconds.\n",
            "-- Epoch 15\n",
            "Norm: 0.67, NNZs: 13, Bias: -0.000401, T: 7590, Avg. loss: 0.134631\n",
            "Total training time: 0.01 seconds.\n",
            "-- Epoch 16\n",
            "Norm: 0.68, NNZs: 13, Bias: -0.001460, T: 8096, Avg. loss: 0.134516\n",
            "Total training time: 0.01 seconds.\n",
            "-- Epoch 17\n",
            "Norm: 0.68, NNZs: 13, Bias: 0.001100, T: 8602, Avg. loss: 0.134231\n",
            "Total training time: 0.01 seconds.\n",
            "-- Epoch 18\n",
            "Norm: 0.68, NNZs: 13, Bias: 0.000184, T: 9108, Avg. loss: 0.133960\n",
            "Total training time: 0.01 seconds.\n",
            "-- Epoch 19\n",
            "Norm: 0.69, NNZs: 13, Bias: 0.000521, T: 9614, Avg. loss: 0.133692\n",
            "Total training time: 0.01 seconds.\n",
            "-- Epoch 20\n",
            "Norm: 0.70, NNZs: 13, Bias: 0.001296, T: 10120, Avg. loss: 0.133724\n",
            "Total training time: 0.01 seconds.\n",
            "-- Epoch 21\n",
            "Norm: 0.70, NNZs: 13, Bias: 0.001443, T: 10626, Avg. loss: 0.133482\n",
            "Total training time: 0.01 seconds.\n",
            "-- Epoch 22\n",
            "Norm: 0.71, NNZs: 13, Bias: 0.002036, T: 11132, Avg. loss: 0.133284\n",
            "Total training time: 0.01 seconds.\n",
            "-- Epoch 23\n",
            "Norm: 0.71, NNZs: 13, Bias: 0.002374, T: 11638, Avg. loss: 0.132910\n",
            "Total training time: 0.01 seconds.\n",
            "-- Epoch 24\n",
            "Norm: 0.72, NNZs: 13, Bias: 0.000711, T: 12144, Avg. loss: 0.132740\n",
            "Total training time: 0.01 seconds.\n",
            "-- Epoch 25\n",
            "Norm: 0.72, NNZs: 13, Bias: -0.002437, T: 12650, Avg. loss: 0.132208\n",
            "Total training time: 0.01 seconds.\n",
            "-- Epoch 26\n",
            "Norm: 0.73, NNZs: 13, Bias: -0.003221, T: 13156, Avg. loss: 0.132612\n",
            "Total training time: 0.01 seconds.\n",
            "-- Epoch 27\n",
            "Norm: 0.73, NNZs: 13, Bias: -0.002546, T: 13662, Avg. loss: 0.133080\n",
            "Total training time: 0.01 seconds.\n",
            "-- Epoch 28\n",
            "Norm: 0.73, NNZs: 13, Bias: -0.002479, T: 14168, Avg. loss: 0.132644\n",
            "Total training time: 0.01 seconds.\n",
            "-- Epoch 29\n",
            "Norm: 0.73, NNZs: 13, Bias: -0.003591, T: 14674, Avg. loss: 0.132794\n",
            "Total training time: 0.01 seconds.\n",
            "-- Epoch 30\n",
            "Norm: 0.73, NNZs: 13, Bias: -0.001970, T: 15180, Avg. loss: 0.132766\n",
            "Total training time: 0.01 seconds.\n",
            "-- Epoch 31\n",
            "Norm: 0.74, NNZs: 13, Bias: -0.000161, T: 15686, Avg. loss: 0.132077\n",
            "Total training time: 0.02 seconds.\n",
            "-- Epoch 32\n",
            "Norm: 0.74, NNZs: 13, Bias: 0.001951, T: 16192, Avg. loss: 0.132488\n",
            "Total training time: 0.02 seconds.\n",
            "-- Epoch 33\n",
            "Norm: 0.74, NNZs: 13, Bias: 0.001081, T: 16698, Avg. loss: 0.132675\n",
            "Total training time: 0.02 seconds.\n",
            "-- Epoch 34\n",
            "Norm: 0.74, NNZs: 13, Bias: 0.002759, T: 17204, Avg. loss: 0.132457\n",
            "Total training time: 0.02 seconds.\n",
            "-- Epoch 35\n",
            "Norm: 0.75, NNZs: 13, Bias: 0.001844, T: 17710, Avg. loss: 0.132310\n",
            "Total training time: 0.02 seconds.\n",
            "-- Epoch 36\n",
            "Norm: 0.75, NNZs: 13, Bias: 0.000364, T: 18216, Avg. loss: 0.132516\n",
            "Total training time: 0.02 seconds.\n",
            "-- Epoch 37\n",
            "Norm: 0.75, NNZs: 13, Bias: 0.001541, T: 18722, Avg. loss: 0.132024\n",
            "Total training time: 0.02 seconds.\n",
            "-- Epoch 38\n",
            "Norm: 0.75, NNZs: 13, Bias: 0.001462, T: 19228, Avg. loss: 0.132229\n",
            "Total training time: 0.02 seconds.\n",
            "-- Epoch 39\n",
            "Norm: 0.75, NNZs: 13, Bias: 0.001200, T: 19734, Avg. loss: 0.132246\n",
            "Total training time: 0.02 seconds.\n",
            "-- Epoch 40\n",
            "Norm: 0.75, NNZs: 13, Bias: -0.000822, T: 20240, Avg. loss: 0.132225\n",
            "Total training time: 0.02 seconds.\n",
            "-- Epoch 41\n",
            "Norm: 0.76, NNZs: 13, Bias: -0.000301, T: 20746, Avg. loss: 0.132106\n",
            "Total training time: 0.02 seconds.\n",
            "-- Epoch 42\n",
            "Norm: 0.75, NNZs: 13, Bias: 0.000276, T: 21252, Avg. loss: 0.131858\n",
            "Total training time: 0.02 seconds.\n",
            "-- Epoch 43\n",
            "Norm: 0.76, NNZs: 13, Bias: -0.000848, T: 21758, Avg. loss: 0.132071\n",
            "Total training time: 0.02 seconds.\n",
            "-- Epoch 44\n",
            "Norm: 0.76, NNZs: 13, Bias: 0.001616, T: 22264, Avg. loss: 0.132224\n",
            "Total training time: 0.02 seconds.\n",
            "-- Epoch 45\n",
            "Norm: 0.77, NNZs: 13, Bias: 0.001906, T: 22770, Avg. loss: 0.132073\n",
            "Total training time: 0.02 seconds.\n",
            "-- Epoch 46\n",
            "Norm: 0.76, NNZs: 13, Bias: -0.001095, T: 23276, Avg. loss: 0.131726\n",
            "Total training time: 0.02 seconds.\n",
            "-- Epoch 47\n",
            "Norm: 0.76, NNZs: 13, Bias: 0.000256, T: 23782, Avg. loss: 0.132235\n",
            "Total training time: 0.02 seconds.\n",
            "-- Epoch 48\n",
            "Norm: 0.76, NNZs: 13, Bias: 0.001059, T: 24288, Avg. loss: 0.132235\n",
            "Total training time: 0.02 seconds.\n",
            "-- Epoch 49\n",
            "Norm: 0.77, NNZs: 13, Bias: 0.000507, T: 24794, Avg. loss: 0.132014\n",
            "Total training time: 0.02 seconds.\n",
            "-- Epoch 50\n",
            "Norm: 0.77, NNZs: 13, Bias: -0.000079, T: 25300, Avg. loss: 0.131954\n",
            "Total training time: 0.02 seconds.\n"
          ],
          "name": "stdout"
        },
        {
          "output_type": "stream",
          "text": [
            "/usr/local/lib/python3.6/dist-packages/sklearn/linear_model/stochastic_gradient.py:183: FutureWarning: max_iter and tol parameters have been added in SGDRegressor in 0.19. If max_iter is set but tol is left unset, the default value for tol in 0.19 and 0.20 will be None (which is equivalent to -infinity, so it has no effect) but will change in 0.21 to 1e-3. Specify tol to silence this warning.\n",
            "  FutureWarning)\n"
          ],
          "name": "stderr"
        }
      ]
    },
    {
      "metadata": {
        "id": "qtu3K3rQnW4i",
        "colab_type": "code",
        "colab": {}
      },
      "cell_type": "code",
      "source": [
        ""
      ],
      "execution_count": 0,
      "outputs": []
    },
    {
      "metadata": {
        "id": "ykBqqf7znfOD",
        "colab_type": "code",
        "outputId": "e4b55b57-30a2-4519-d772-ca4a3e8e0278",
        "colab": {
          "base_uri": "https://localhost:8080/",
          "height": 452
        }
      },
      "cell_type": "code",
      "source": [
        "pd.DataFrame(model.coef_)"
      ],
      "execution_count": 14,
      "outputs": [
        {
          "output_type": "execute_result",
          "data": {
            "text/html": [
              "<div>\n",
              "<style scoped>\n",
              "    .dataframe tbody tr th:only-of-type {\n",
              "        vertical-align: middle;\n",
              "    }\n",
              "\n",
              "    .dataframe tbody tr th {\n",
              "        vertical-align: top;\n",
              "    }\n",
              "\n",
              "    .dataframe thead th {\n",
              "        text-align: right;\n",
              "    }\n",
              "</style>\n",
              "<table border=\"1\" class=\"dataframe\">\n",
              "  <thead>\n",
              "    <tr style=\"text-align: right;\">\n",
              "      <th></th>\n",
              "      <th>0</th>\n",
              "    </tr>\n",
              "  </thead>\n",
              "  <tbody>\n",
              "    <tr>\n",
              "      <th>0</th>\n",
              "      <td>-0.098351</td>\n",
              "    </tr>\n",
              "    <tr>\n",
              "      <th>1</th>\n",
              "      <td>0.107692</td>\n",
              "    </tr>\n",
              "    <tr>\n",
              "      <th>2</th>\n",
              "      <td>0.000053</td>\n",
              "    </tr>\n",
              "    <tr>\n",
              "      <th>3</th>\n",
              "      <td>0.076083</td>\n",
              "    </tr>\n",
              "    <tr>\n",
              "      <th>4</th>\n",
              "      <td>-0.214565</td>\n",
              "    </tr>\n",
              "    <tr>\n",
              "      <th>5</th>\n",
              "      <td>0.292810</td>\n",
              "    </tr>\n",
              "    <tr>\n",
              "      <th>6</th>\n",
              "      <td>0.003764</td>\n",
              "    </tr>\n",
              "    <tr>\n",
              "      <th>7</th>\n",
              "      <td>-0.340961</td>\n",
              "    </tr>\n",
              "    <tr>\n",
              "      <th>8</th>\n",
              "      <td>0.245487</td>\n",
              "    </tr>\n",
              "    <tr>\n",
              "      <th>9</th>\n",
              "      <td>-0.171958</td>\n",
              "    </tr>\n",
              "    <tr>\n",
              "      <th>10</th>\n",
              "      <td>-0.223401</td>\n",
              "    </tr>\n",
              "    <tr>\n",
              "      <th>11</th>\n",
              "      <td>0.090037</td>\n",
              "    </tr>\n",
              "    <tr>\n",
              "      <th>12</th>\n",
              "      <td>-0.403117</td>\n",
              "    </tr>\n",
              "  </tbody>\n",
              "</table>\n",
              "</div>"
            ],
            "text/plain": [
              "           0\n",
              "0  -0.098351\n",
              "1   0.107692\n",
              "2   0.000053\n",
              "3   0.076083\n",
              "4  -0.214565\n",
              "5   0.292810\n",
              "6   0.003764\n",
              "7  -0.340961\n",
              "8   0.245487\n",
              "9  -0.171958\n",
              "10 -0.223401\n",
              "11  0.090037\n",
              "12 -0.403117"
            ]
          },
          "metadata": {
            "tags": []
          },
          "execution_count": 14
        }
      ]
    },
    {
      "metadata": {
        "id": "le7tcrf84guU",
        "colab_type": "code",
        "colab": {}
      },
      "cell_type": "code",
      "source": [
        "def pred_price(row, coefficients):\n",
        "    y_pred = coefficients[0]\n",
        "    for i in range(len(row)-1):\n",
        "        y_pred += coefficients[i + 1] * row[i]\n",
        "    return y_pred"
      ],
      "execution_count": 0,
      "outputs": []
    },
    {
      "metadata": {
        "id": "59NWfrJrVqIR",
        "colab_type": "code",
        "colab": {}
      },
      "cell_type": "code",
      "source": [
        "#computing optimal weights using sgd\n",
        "def coefficients_sgd(train, l_rate, n_epoch):\n",
        "    coef = [0.0 for i in range(len(train[0]))]\n",
        "    for epoch in range(n_epoch):\n",
        "        for row in train:\n",
        "            y_pred = pred_price(row, coef)\n",
        "            error = y_pred - row[-1]\n",
        "            coef[0] = coef[0] - l_rate * error\n",
        "            for i in range(len(row)-1):\n",
        "                coef[i + 1] = coef[i + 1] - l_rate * error * row[i]\n",
        "        print('>epoch=%d, lrate=%.3f, error=%.3f' % (epoch, l_rate, error))\n",
        "\n",
        "    return coef\n"
      ],
      "execution_count": 0,
      "outputs": []
    },
    {
      "metadata": {
        "id": "m_qjxOyXXOPN",
        "colab_type": "code",
        "colab": {}
      },
      "cell_type": "code",
      "source": [
        ""
      ],
      "execution_count": 0,
      "outputs": []
    },
    {
      "metadata": {
        "id": "-gyzqfyUWZva",
        "colab_type": "code",
        "outputId": "17fb10a2-465b-4897-e932-993327378850",
        "colab": {
          "base_uri": "https://localhost:8080/",
          "height": 867
        }
      },
      "cell_type": "code",
      "source": [
        "coef = coefficients_sgd(bos.values,0.001, 50)"
      ],
      "execution_count": 22,
      "outputs": [
        {
          "output_type": "stream",
          "text": [
            ">epoch=0, lrate=0.001, error=1.145\n",
            ">epoch=1, lrate=0.001, error=1.133\n",
            ">epoch=2, lrate=0.001, error=1.131\n",
            ">epoch=3, lrate=0.001, error=1.133\n",
            ">epoch=4, lrate=0.001, error=1.137\n",
            ">epoch=5, lrate=0.001, error=1.141\n",
            ">epoch=6, lrate=0.001, error=1.145\n",
            ">epoch=7, lrate=0.001, error=1.149\n",
            ">epoch=8, lrate=0.001, error=1.152\n",
            ">epoch=9, lrate=0.001, error=1.155\n",
            ">epoch=10, lrate=0.001, error=1.157\n",
            ">epoch=11, lrate=0.001, error=1.159\n",
            ">epoch=12, lrate=0.001, error=1.161\n",
            ">epoch=13, lrate=0.001, error=1.162\n",
            ">epoch=14, lrate=0.001, error=1.163\n",
            ">epoch=15, lrate=0.001, error=1.164\n",
            ">epoch=16, lrate=0.001, error=1.165\n",
            ">epoch=17, lrate=0.001, error=1.166\n",
            ">epoch=18, lrate=0.001, error=1.166\n",
            ">epoch=19, lrate=0.001, error=1.166\n",
            ">epoch=20, lrate=0.001, error=1.167\n",
            ">epoch=21, lrate=0.001, error=1.167\n",
            ">epoch=22, lrate=0.001, error=1.167\n",
            ">epoch=23, lrate=0.001, error=1.167\n",
            ">epoch=24, lrate=0.001, error=1.167\n",
            ">epoch=25, lrate=0.001, error=1.167\n",
            ">epoch=26, lrate=0.001, error=1.167\n",
            ">epoch=27, lrate=0.001, error=1.167\n",
            ">epoch=28, lrate=0.001, error=1.167\n",
            ">epoch=29, lrate=0.001, error=1.167\n",
            ">epoch=30, lrate=0.001, error=1.167\n",
            ">epoch=31, lrate=0.001, error=1.167\n",
            ">epoch=32, lrate=0.001, error=1.167\n",
            ">epoch=33, lrate=0.001, error=1.167\n",
            ">epoch=34, lrate=0.001, error=1.167\n",
            ">epoch=35, lrate=0.001, error=1.167\n",
            ">epoch=36, lrate=0.001, error=1.166\n",
            ">epoch=37, lrate=0.001, error=1.166\n",
            ">epoch=38, lrate=0.001, error=1.166\n",
            ">epoch=39, lrate=0.001, error=1.166\n",
            ">epoch=40, lrate=0.001, error=1.166\n",
            ">epoch=41, lrate=0.001, error=1.166\n",
            ">epoch=42, lrate=0.001, error=1.166\n",
            ">epoch=43, lrate=0.001, error=1.166\n",
            ">epoch=44, lrate=0.001, error=1.165\n",
            ">epoch=45, lrate=0.001, error=1.165\n",
            ">epoch=46, lrate=0.001, error=1.165\n",
            ">epoch=47, lrate=0.001, error=1.165\n",
            ">epoch=48, lrate=0.001, error=1.165\n",
            ">epoch=49, lrate=0.001, error=1.165\n"
          ],
          "name": "stdout"
        }
      ]
    },
    {
      "metadata": {
        "id": "2EWGOUcpXWbP",
        "colab_type": "code",
        "outputId": "c4e6adf7-600e-4828-a864-5651dca34451",
        "colab": {
          "base_uri": "https://localhost:8080/",
          "height": 483
        }
      },
      "cell_type": "code",
      "source": [
        "pd.DataFrame(coef)"
      ],
      "execution_count": 23,
      "outputs": [
        {
          "output_type": "execute_result",
          "data": {
            "text/html": [
              "<div>\n",
              "<style scoped>\n",
              "    .dataframe tbody tr th:only-of-type {\n",
              "        vertical-align: middle;\n",
              "    }\n",
              "\n",
              "    .dataframe tbody tr th {\n",
              "        vertical-align: top;\n",
              "    }\n",
              "\n",
              "    .dataframe thead th {\n",
              "        text-align: right;\n",
              "    }\n",
              "</style>\n",
              "<table border=\"1\" class=\"dataframe\">\n",
              "  <thead>\n",
              "    <tr style=\"text-align: right;\">\n",
              "      <th></th>\n",
              "      <th>0</th>\n",
              "    </tr>\n",
              "  </thead>\n",
              "  <tbody>\n",
              "    <tr>\n",
              "      <th>0</th>\n",
              "      <td>-0.022128</td>\n",
              "    </tr>\n",
              "    <tr>\n",
              "      <th>1</th>\n",
              "      <td>-0.110580</td>\n",
              "    </tr>\n",
              "    <tr>\n",
              "      <th>2</th>\n",
              "      <td>0.103115</td>\n",
              "    </tr>\n",
              "    <tr>\n",
              "      <th>3</th>\n",
              "      <td>-0.003077</td>\n",
              "    </tr>\n",
              "    <tr>\n",
              "      <th>4</th>\n",
              "      <td>0.084143</td>\n",
              "    </tr>\n",
              "    <tr>\n",
              "      <th>5</th>\n",
              "      <td>-0.220420</td>\n",
              "    </tr>\n",
              "    <tr>\n",
              "      <th>6</th>\n",
              "      <td>0.268494</td>\n",
              "    </tr>\n",
              "    <tr>\n",
              "      <th>7</th>\n",
              "      <td>0.005917</td>\n",
              "    </tr>\n",
              "    <tr>\n",
              "      <th>8</th>\n",
              "      <td>-0.328467</td>\n",
              "    </tr>\n",
              "    <tr>\n",
              "      <th>9</th>\n",
              "      <td>0.226171</td>\n",
              "    </tr>\n",
              "    <tr>\n",
              "      <th>10</th>\n",
              "      <td>-0.159735</td>\n",
              "    </tr>\n",
              "    <tr>\n",
              "      <th>11</th>\n",
              "      <td>-0.215985</td>\n",
              "    </tr>\n",
              "    <tr>\n",
              "      <th>12</th>\n",
              "      <td>0.093242</td>\n",
              "    </tr>\n",
              "    <tr>\n",
              "      <th>13</th>\n",
              "      <td>-0.427247</td>\n",
              "    </tr>\n",
              "  </tbody>\n",
              "</table>\n",
              "</div>"
            ],
            "text/plain": [
              "           0\n",
              "0  -0.022128\n",
              "1  -0.110580\n",
              "2   0.103115\n",
              "3  -0.003077\n",
              "4   0.084143\n",
              "5  -0.220420\n",
              "6   0.268494\n",
              "7   0.005917\n",
              "8  -0.328467\n",
              "9   0.226171\n",
              "10 -0.159735\n",
              "11 -0.215985\n",
              "12  0.093242\n",
              "13 -0.427247"
            ]
          },
          "metadata": {
            "tags": []
          },
          "execution_count": 23
        }
      ]
    },
    {
      "metadata": {
        "id": "ebR_5yVhawjd",
        "colab_type": "code",
        "colab": {}
      },
      "cell_type": "code",
      "source": [
        "predictions = list()\n",
        "for row in X.values:\n",
        "  yhat = predict(row, coef)\n",
        "  predictions.append(yhat)\n",
        "\n",
        "  "
      ],
      "execution_count": 0,
      "outputs": []
    },
    {
      "metadata": {
        "id": "XXRvBEq5bmVt",
        "colab_type": "code",
        "outputId": "8e8ba055-eb7d-4846-9339-05785f898e33",
        "colab": {
          "base_uri": "https://localhost:8080/",
          "height": 34
        }
      },
      "cell_type": "code",
      "source": [
        "from sklearn.metrics import mean_squared_error\n",
        "mse1 = mean_squared_error(Y, y_predicted)\n",
        "mse2 = mean_squared_error(Y, predictions)\n",
        "print (mse1, mse2)"
      ],
      "execution_count": 25,
      "outputs": [
        {
          "output_type": "stream",
          "text": [
            "0.26015934870560964 0.43672288122730213\n"
          ],
          "name": "stdout"
        }
      ]
    },
    {
      "metadata": {
        "id": "XEw_p_ZGb11U",
        "colab_type": "code",
        "outputId": "806849e9-23ac-4dca-b243-eb81aa57cd38",
        "colab": {
          "base_uri": "https://localhost:8080/",
          "height": 34
        }
      },
      "cell_type": "code",
      "source": [
        "rmse1 = mse1**0.5\n",
        "rmse2 = mse2 ** 0.5\n",
        "print (rmse1, rmse2)"
      ],
      "execution_count": 26,
      "outputs": [
        {
          "output_type": "stream",
          "text": [
            "0.5100581816867656 0.6608501200932796\n"
          ],
          "name": "stdout"
        }
      ]
    },
    {
      "metadata": {
        "id": "IscjkW5fb3X4",
        "colab_type": "code",
        "outputId": "aa4f2803-1c22-497d-df7e-188e62e5d4ab",
        "colab": {
          "base_uri": "https://localhost:8080/",
          "height": 265
        }
      },
      "cell_type": "code",
      "source": [
        "delta_y = predictions-Y.values;\n",
        "\n",
        "import matplotlib.pyplot as plt\n",
        "%matplotlib inline\n",
        "import seaborn as sns;\n",
        "import numpy as np;\n",
        "sns.set_style('whitegrid')\n",
        "sns.kdeplot(np.array(delta_y), bw=0.5)\n",
        "plt.show()"
      ],
      "execution_count": 27,
      "outputs": [
        {
          "output_type": "display_data",
          "data": {
            "image/png": "[encoded data removed]",
            "text/plain": [
              "<matplotlib.figure.Figure at 0x7f4dcc273828>"
            ]
          },
          "metadata": {
            "tags": []
          }
        }
      ]
    },
    {
      "metadata": {
        "id": "q2m_PSVMc7tE",
        "colab_type": "code",
        "outputId": "164157c1-e831-4669-b882-51faff7f2bb3",
        "colab": {
          "base_uri": "https://localhost:8080/",
          "height": 265
        }
      },
      "cell_type": "code",
      "source": [
        "delta_y = y_predicted-Y;\n",
        "\n",
        "import matplotlib.pyplot as plt\n",
        "%matplotlib inline\n",
        "import seaborn as sns;\n",
        "import numpy as np;\n",
        "sns.set_style('whitegrid')\n",
        "sns.kdeplot(np.array(delta_y), bw=0.5)\n",
        "plt.show()"
      ],
      "execution_count": 28,
      "outputs": [
        {
          "output_type": "display_data",
          "data": {
            "image/png": "[encoded data removed]",
            "text/plain": [
              "<matplotlib.figure.Figure at 0x7f4db5172908>"
            ]
          },
          "metadata": {
            "tags": []
          }
        }
      ]
    },
    {
      "metadata": {
        "id": "rZYfhRbkl4Dn",
        "colab_type": "code",
        "colab": {}
      },
      "cell_type": "code",
      "source": [
        ""
      ],
      "execution_count": 0,
      "outputs": []
    }
  ]
}